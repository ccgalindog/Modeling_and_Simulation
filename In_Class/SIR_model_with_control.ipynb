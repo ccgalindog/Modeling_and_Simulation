{
 "cells": [
  {
   "cell_type": "code",
   "execution_count": 27,
   "metadata": {
    "colab": {},
    "colab_type": "code",
    "id": "rR1TUy6CixEN"
   },
   "outputs": [],
   "source": [
    "%matplotlib inline"
   ]
  },
  {
   "cell_type": "code",
   "execution_count": 2,
   "metadata": {
    "colab": {},
    "colab_type": "code",
    "id": "4ILI9eOwaQ0-"
   },
   "outputs": [],
   "source": [
    "import matplotlib.style\n",
    "matplotlib.style.use('classic')\n",
    "import numpy as np\n",
    "from matplotlib import pyplot as plt\n",
    "from scipy.integrate import odeint"
   ]
  },
  {
   "cell_type": "markdown",
   "metadata": {},
   "source": [
    "# SIR model with control\n",
    "\n",
    "States: $x = (S, I, R)$, where $S_{(t)}$ is susceptible population, $I_{(t)}$ is infective population and $R_{(t)}$ is recovered population.\n",
    "\n",
    "$\\dot S = S(A-S) - kIS$\n",
    "\n",
    "$\\dot I = kIS - \\mu I - \\frac{rI}{a + I}$\n",
    "\n",
    "$\\dot R = \\frac{rI}{a + I} - \\mu R$\n",
    "\n",
    "Where $A$ is the carrying capacity in the absence of disease, $\\mu$ is the natural death rate, $a$ represents a delay in the control action, $k$ and $r$ are the infection and cure rate, respectively.\n",
    "\n",
    "\n",
    "Model purposed in:\n",
    "*Qualitative and bifurcation analysis using an SIR model with a saturated treatment function,\n",
    "Mathematical and Computer Modelling*, Jinliang Wang, Shengqiang Liu, Baowen Zheng, Yasuhiro Takeuchi,\n",
    "Volume 55, Issues 3–4, 2012, Pages 710-722, ISSN 0895-7177"
   ]
  },
  {
   "cell_type": "code",
   "execution_count": 3,
   "metadata": {
    "colab": {},
    "colab_type": "code",
    "id": "2Cq6h0CubT2K"
   },
   "outputs": [],
   "source": [
    "def sir_model_control(x, t, A, k, myu, r, a):\n",
    "    S = x[0]\n",
    "    I = x[1]\n",
    "    R = x[2]\n",
    "    \n",
    "    S_dot = S*(A - S) - k*I*S\n",
    "    I_dot = k*I*S - myu*I - ( (r*I)/(a+I) )\n",
    "    R_dot = ( (r*I)/(a+I) ) - myu*R\n",
    "\n",
    "    x_dot = [S_dot, I_dot, R_dot]\n",
    "    return x_dot"
   ]
  },
  {
   "cell_type": "code",
   "execution_count": 29,
   "metadata": {
    "colab": {},
    "colab_type": "code",
    "id": "SDdUS9WFcrhn"
   },
   "outputs": [],
   "source": [
    "A = 1\n",
    "k = 0.1\n",
    "myu = 0.002\n",
    "r = 0.25\n",
    "a = 0.2\n",
    "\n",
    "x0 = [1.1, 8.0, 2.0]\n",
    "t = np.linspace( 0, 100, 10000 )\n",
    "solution = odeint( sir_model_control, x0, t, args = (A, k, myu, r, a) ) "
   ]
  },
  {
   "cell_type": "code",
   "execution_count": 30,
   "metadata": {
    "colab": {
     "base_uri": "https://localhost:8080/",
     "height": 290
    },
    "colab_type": "code",
    "id": "AnDwyRnjeysj",
    "outputId": "967f952b-fdc6-4b71-a8e0-ce6bcf82a341"
   },
   "outputs": [
    {
     "data": {
      "image/png": "[encoded data removed]",
      "text/plain": [
       "<Figure size 432x288 with 1 Axes>"
      ]
     },
     "metadata": {},
     "output_type": "display_data"
    }
   ],
   "source": [
    "plt.figure()\n",
    "plt.plot( t, solution[ : , 0 ], label = '$ S_{(t)} $', color = 'midnightblue', linewidth = 2.0)\n",
    "plt.plot( t, solution[ : , 1 ], label = '$ I_{(t)} $', color = 'lime', linewidth = 2.0 )\n",
    "plt.plot( t, solution[ : , 2 ], label = '$ R_{(t)} $', color = 'darkmagenta', linewidth = 2.0 )\n",
    "plt.legend(loc = 'best')\n",
    "plt.xlabel('Time $ t $')\n",
    "plt.ylabel('Population')\n",
    "plt.grid()\n",
    "plt.show()"
   ]
  }
 ],
 "metadata": {
  "colab": {
   "name": "Untitled5.ipynb",
   "provenance": [],
   "version": "0.3.2"
  },
  "kernelspec": {
   "display_name": "Python 3",
   "language": "python",
   "name": "python3"
  },
  "language_info": {
   "codemirror_mode": {
    "name": "ipython",
    "version": 3
   },
   "file_extension": ".py",
   "mimetype": "text/x-python",
   "name": "python",
   "nbconvert_exporter": "python",
   "pygments_lexer": "ipython3",
   "version": "3.6.7"
  }
 },
 "nbformat": 4,
 "nbformat_minor": 1
}
